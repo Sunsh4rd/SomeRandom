{
 "cells": [
  {
   "cell_type": "code",
   "execution_count": 1,
   "metadata": {},
   "outputs": [],
   "source": [
    "import numpy as np"
   ]
  },
  {
   "cell_type": "code",
   "execution_count": 2,
   "metadata": {},
   "outputs": [
    {
     "name": "stdout",
     "output_type": "stream",
     "text": [
      "[[ 15  30 -78 -41 -30 -35  71 -83 -37]\n",
      " [  6 -15 -56 -69  20 -27 -70 -90 -30]\n",
      " [ 78 -16  17 -99 -10  58 -16  38 -37]\n",
      " [-33   3 -91 -34  52 -51  -2  60 -83]]\n"
     ]
    }
   ],
   "source": [
    "# Сгенерировать матрицу размером 4 × 9, заполненную целыми числами.\n",
    "a = np.random.randint(-100, 100, (4,9))\n",
    "print(a)"
   ]
  },
  {
   "cell_type": "code",
   "execution_count": 3,
   "metadata": {},
   "outputs": [
    {
     "name": "stdout",
     "output_type": "stream",
     "text": [
      "-16\n"
     ]
    }
   ],
   "source": [
    "# Вывести на экран элемент с индексами [2, 6].\n",
    "print(a[2,6])"
   ]
  },
  {
   "cell_type": "code",
   "execution_count": 4,
   "metadata": {},
   "outputs": [
    {
     "name": "stdout",
     "output_type": "stream",
     "text": [
      "[  3 -34 -51  60]\n"
     ]
    }
   ],
   "source": [
    "# Вывести на экран каждый второй элемент третьей строки матрицы.\n",
    "print(a[3, 1::2])"
   ]
  },
  {
   "cell_type": "code",
   "execution_count": 20,
   "metadata": {},
   "outputs": [
    {
     "name": "stdout",
     "output_type": "stream",
     "text": [
      "[[-37 -83  71 -35 -30 -41 -78  30  15]\n",
      " [-30 -90 -70 -27  20 -69 -56 -15   6]\n",
      " [-37  38 -16  58 -10 -99  17 -16  78]\n",
      " [-83  60  -2 -51  52 -34 -91   3 -33]]\n"
     ]
    }
   ],
   "source": [
    "# Вывести на экран элементы последнего столбца в обратном порядке.\n",
    "print(a[:, -1][::-1])"
   ]
  },
  {
   "cell_type": "code",
   "execution_count": 6,
   "metadata": {},
   "outputs": [
    {
     "name": "stdout",
     "output_type": "stream",
     "text": [
      "[[ 15  30 -78 -41 -30 -35]\n",
      " [ 71 -83 -37   6 -15 -56]\n",
      " [-69  20 -27 -70 -90 -30]\n",
      " [ 78 -16  17 -99 -10  58]\n",
      " [-16  38 -37 -33   3 -91]\n",
      " [-34  52 -51  -2  60 -83]]\n"
     ]
    }
   ],
   "source": [
    "# Изменить форму матрицы с 4 × 9 на 6 × 6.\n",
    "b = a.reshape(6,6)\n",
    "print(b)"
   ]
  },
  {
   "cell_type": "code",
   "execution_count": 7,
   "metadata": {},
   "outputs": [
    {
     "name": "stdout",
     "output_type": "stream",
     "text": [
      "[[   3375   27000 -474552  -68921  -27000  -42875]\n",
      " [ 357911 -571787  -50653     216   -3375 -175616]\n",
      " [-328509    8000  -19683 -343000 -729000  -27000]\n",
      " [ 474552   -4096    4913 -970299   -1000  195112]\n",
      " [  -4096   54872  -50653  -35937      27 -753571]\n",
      " [ -39304  140608 -132651      -8  216000 -571787]]\n"
     ]
    }
   ],
   "source": [
    "# Возвести каждый элемент матрицы в заданную степень.\n",
    "c = b ** int(input())\n",
    "print(c)"
   ]
  },
  {
   "cell_type": "code",
   "execution_count": 8,
   "metadata": {},
   "outputs": [
    {
     "name": "stdout",
     "output_type": "stream",
     "text": [
      "-970299\n"
     ]
    }
   ],
   "source": [
    "# Найти минимум на главной диагонали.\n",
    "print(np.min(c.diagonal()))"
   ]
  },
  {
   "cell_type": "code",
   "execution_count": 9,
   "metadata": {},
   "outputs": [
    {
     "name": "stdout",
     "output_type": "stream",
     "text": [
      "216000\n"
     ]
    }
   ],
   "source": [
    "# Найти максимальный элемент в предпоследнем столбце.\n",
    "print(np.max(c[:, -2]))"
   ]
  },
  {
   "cell_type": "code",
   "execution_count": 13,
   "metadata": {},
   "outputs": [
    {
     "name": "stdout",
     "output_type": "stream",
     "text": [
      "False\n"
     ]
    }
   ],
   "source": [
    "# Определить, образуют ли элементы сжатого до одной оси массива невозрастающую последовательность.\n",
    "d = np.diff(c)\n",
    "print(np.all(d >= 0 ))"
   ]
  },
  {
   "cell_type": "code",
   "execution_count": 11,
   "metadata": {},
   "outputs": [
    {
     "name": "stdout",
     "output_type": "stream",
     "text": [
      "-353945088\n"
     ]
    }
   ],
   "source": [
    "# Подсчитать произведение ненулевых элементов на побочной диагонали.\n",
    "e = np.fliplr(c).diagonal()\n",
    "print(np.prod(e[e != 0]))"
   ]
  }
 ],
 "metadata": {
  "kernelspec": {
   "display_name": "Python 3.10.8 64-bit",
   "language": "python",
   "name": "python3"
  },
  "language_info": {
   "codemirror_mode": {
    "name": "ipython",
    "version": 3
   },
   "file_extension": ".py",
   "mimetype": "text/x-python",
   "name": "python",
   "nbconvert_exporter": "python",
   "pygments_lexer": "ipython3",
   "version": "3.10.8"
  },
  "orig_nbformat": 4,
  "vscode": {
   "interpreter": {
    "hash": "ffc53f6f91f4bbaf208030598eedd0670a354ebe6284c063d0c1646cd9584e17"
   }
  }
 },
 "nbformat": 4,
 "nbformat_minor": 2
}
