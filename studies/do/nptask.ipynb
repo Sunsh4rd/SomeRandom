{
 "cells": [
  {
   "cell_type": "code",
   "execution_count": 14,
   "metadata": {},
   "outputs": [],
   "source": [
    "import numpy as np"
   ]
  },
  {
   "cell_type": "code",
   "execution_count": 15,
   "metadata": {},
   "outputs": [
    {
     "name": "stdout",
     "output_type": "stream",
     "text": [
      "[[ 36 -16  77  59  51  86  41 -21 -76]\n",
      " [ 15 -26 -98 -29 -33  79 -59  60 -90]\n",
      " [-32  65   0 -88  24   2  38 -73 -79]\n",
      " [ 94  14  13 -76 -59  90 -14  74 -71]]\n"
     ]
    }
   ],
   "source": [
    "# Сгенерировать матрицу размером 4 × 9, заполненную целыми числами.\n",
    "a = np.random.randint(-100, 100, (4,9))\n",
    "print(a)"
   ]
  },
  {
   "cell_type": "code",
   "execution_count": 16,
   "metadata": {},
   "outputs": [
    {
     "name": "stdout",
     "output_type": "stream",
     "text": [
      "38\n"
     ]
    }
   ],
   "source": [
    "# Вывести на экран элемент с индексами [2, 6].\n",
    "print(a[2,6])"
   ]
  },
  {
   "cell_type": "code",
   "execution_count": 17,
   "metadata": {},
   "outputs": [
    {
     "name": "stdout",
     "output_type": "stream",
     "text": [
      "[ 14 -76  90  74]\n"
     ]
    }
   ],
   "source": [
    "# Вывести на экран каждый второй элемент третьей строки матрицы.\n",
    "print(a[3, 1::2])"
   ]
  },
  {
   "cell_type": "code",
   "execution_count": 18,
   "metadata": {},
   "outputs": [
    {
     "name": "stdout",
     "output_type": "stream",
     "text": [
      "[-71 -79 -90 -76]\n"
     ]
    }
   ],
   "source": [
    "# Вывести на экран элементы последнего столбца в обратном порядке.\n",
    "print(a[:, -1][::-1])"
   ]
  },
  {
   "cell_type": "code",
   "execution_count": 19,
   "metadata": {},
   "outputs": [
    {
     "name": "stdout",
     "output_type": "stream",
     "text": [
      "[[ 36 -16  77  59  51  86]\n",
      " [ 41 -21 -76  15 -26 -98]\n",
      " [-29 -33  79 -59  60 -90]\n",
      " [-32  65   0 -88  24   2]\n",
      " [ 38 -73 -79  94  14  13]\n",
      " [-76 -59  90 -14  74 -71]]\n"
     ]
    }
   ],
   "source": [
    "# Изменить форму матрицы с 4 × 9 на 6 × 6.\n",
    "b = a.reshape(6,6)\n",
    "print(b)"
   ]
  },
  {
   "cell_type": "code",
   "execution_count": 20,
   "metadata": {},
   "outputs": [
    {
     "name": "stdout",
     "output_type": "stream",
     "text": [
      "[[  46656   -4096  456533  205379  132651  636056]\n",
      " [  68921   -9261 -438976    3375  -17576 -941192]\n",
      " [ -24389  -35937  493039 -205379  216000 -729000]\n",
      " [ -32768  274625       0 -681472   13824       8]\n",
      " [  54872 -389017 -493039  830584    2744    2197]\n",
      " [-438976 -205379  729000   -2744  405224 -357911]]\n"
     ]
    }
   ],
   "source": [
    "# Возвести каждый элемент матрицы в заданную степень.\n",
    "c = b ** int(input())\n",
    "print(c)"
   ]
  },
  {
   "cell_type": "code",
   "execution_count": 21,
   "metadata": {},
   "outputs": [
    {
     "name": "stdout",
     "output_type": "stream",
     "text": [
      "-681472\n"
     ]
    }
   ],
   "source": [
    "# Найти минимум на главной диагонали.\n",
    "print(np.min(c.diagonal()))"
   ]
  },
  {
   "cell_type": "code",
   "execution_count": 22,
   "metadata": {},
   "outputs": [
    {
     "name": "stdout",
     "output_type": "stream",
     "text": [
      "405224\n"
     ]
    }
   ],
   "source": [
    "# Найти максимальный элемент в предпоследнем столбце.\n",
    "print(np.max(c[:, -2]))"
   ]
  },
  {
   "cell_type": "code",
   "execution_count": 23,
   "metadata": {},
   "outputs": [
    {
     "name": "stdout",
     "output_type": "stream",
     "text": [
      "False\n"
     ]
    }
   ],
   "source": [
    "# Определить, образуют ли элементы сжатого до одной оси массива невозрастающую последовательность.\n",
    "d = np.diff(c)\n",
    "print(np.all(d >= 0 ))"
   ]
  },
  {
   "cell_type": "code",
   "execution_count": 24,
   "metadata": {},
   "outputs": [
    {
     "name": "stdout",
     "output_type": "stream",
     "text": [
      "-1046759180742594560\n"
     ]
    }
   ],
   "source": [
    "# Подсчитать произведение ненулевых элементов на побочной диагонали.\n",
    "e = np.fliplr(c).diagonal()\n",
    "print(np.prod(e[e != 0]))"
   ]
  }
 ],
 "metadata": {
  "kernelspec": {
   "display_name": "Python 3.10.8 64-bit",
   "language": "python",
   "name": "python3"
  },
  "language_info": {
   "codemirror_mode": {
    "name": "ipython",
    "version": 3
   },
   "file_extension": ".py",
   "mimetype": "text/x-python",
   "name": "python",
   "nbconvert_exporter": "python",
   "pygments_lexer": "ipython3",
   "version": "3.10.8"
  },
  "orig_nbformat": 4,
  "vscode": {
   "interpreter": {
    "hash": "16e397cab1c7084e530dea2299a2c40cb2c33a2effa097120ef36b8eb539fb0f"
   }
  }
 },
 "nbformat": 4,
 "nbformat_minor": 2
}
