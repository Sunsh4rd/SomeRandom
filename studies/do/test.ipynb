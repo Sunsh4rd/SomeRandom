{
 "cells": [
  {
   "cell_type": "code",
   "execution_count": 116,
   "metadata": {},
   "outputs": [],
   "source": [
    "import numpy as np"
   ]
  },
  {
   "cell_type": "code",
   "execution_count": 117,
   "metadata": {},
   "outputs": [
    {
     "name": "stdout",
     "output_type": "stream",
     "text": [
      "[[ 45  68  20 -29 -18  39  43 -94  63]\n",
      " [ 10 -14 -92  40 -96  50  78 -75 -59]\n",
      " [-98  57  45  49 -49  33  76  -9 -32]\n",
      " [-41  18  80  61  57 -22  42 -11 -36]]\n"
     ]
    }
   ],
   "source": [
    "# Сгенерировать матрицу размером 4 × 9, заполненную целыми числами.\n",
    "a = np.random.randint(-100, 100, (4,9))\n",
    "print(a)"
   ]
  },
  {
   "cell_type": "code",
   "execution_count": 118,
   "metadata": {},
   "outputs": [
    {
     "name": "stdout",
     "output_type": "stream",
     "text": [
      "76\n"
     ]
    }
   ],
   "source": [
    "# Вывести на экран элемент с индексами [2, 6].\n",
    "print(a[2,6])"
   ]
  },
  {
   "cell_type": "code",
   "execution_count": 119,
   "metadata": {},
   "outputs": [
    {
     "name": "stdout",
     "output_type": "stream",
     "text": [
      "[ 18  61 -22 -11]\n"
     ]
    }
   ],
   "source": [
    "# Вывести на экран каждый второй элемент третьей строки матрицы.\n",
    "print(a[3, 1::2])"
   ]
  },
  {
   "cell_type": "code",
   "execution_count": 120,
   "metadata": {},
   "outputs": [
    {
     "name": "stdout",
     "output_type": "stream",
     "text": [
      "[-36 -32 -59  63]\n"
     ]
    }
   ],
   "source": [
    "# Вывести на экран элементы последнего столбца в обратном порядке.\n",
    "print(a[:, -1][::-1])"
   ]
  },
  {
   "cell_type": "code",
   "execution_count": 121,
   "metadata": {},
   "outputs": [
    {
     "name": "stdout",
     "output_type": "stream",
     "text": [
      "[[ 45  68  20 -29 -18  39]\n",
      " [ 43 -94  63  10 -14 -92]\n",
      " [ 40 -96  50  78 -75 -59]\n",
      " [-98  57  45  49 -49  33]\n",
      " [ 76  -9 -32 -41  18  80]\n",
      " [ 61  57 -22  42 -11 -36]]\n"
     ]
    }
   ],
   "source": [
    "# Изменить форму матрицы с 4 × 9 на 6 × 6.\n",
    "b = a.reshape(6,6)\n",
    "print(b)"
   ]
  },
  {
   "cell_type": "code",
   "execution_count": 122,
   "metadata": {},
   "outputs": [
    {
     "name": "stdout",
     "output_type": "stream",
     "text": [
      "[[2025 4624  400  841  324 1521]\n",
      " [1849 8836 3969  100  196 8464]\n",
      " [1600 9216 2500 6084 5625 3481]\n",
      " [9604 3249 2025 2401 2401 1089]\n",
      " [5776   81 1024 1681  324 6400]\n",
      " [3721 3249  484 1764  121 1296]]\n"
     ]
    }
   ],
   "source": [
    "# Возвести каждый элемент матрицы в заданную степень.\n",
    "c = b ** int(input())\n",
    "print(c)"
   ]
  },
  {
   "cell_type": "code",
   "execution_count": 123,
   "metadata": {},
   "outputs": [
    {
     "name": "stdout",
     "output_type": "stream",
     "text": [
      "324\n"
     ]
    }
   ],
   "source": [
    "# Найти минимум на главной диагонали.\n",
    "print(np.min(c.diagonal()))"
   ]
  },
  {
   "cell_type": "code",
   "execution_count": 128,
   "metadata": {},
   "outputs": [
    {
     "name": "stdout",
     "output_type": "stream",
     "text": [
      "5625\n"
     ]
    }
   ],
   "source": [
    "# Найти максимальный элемент в предпоследнем столбце.\n",
    "print(np.max(c[:, -2]))"
   ]
  },
  {
   "cell_type": "code",
   "execution_count": 125,
   "metadata": {},
   "outputs": [
    {
     "name": "stdout",
     "output_type": "stream",
     "text": [
      "False\n"
     ]
    }
   ],
   "source": [
    "# Определить, образуют ли элементы сжатого до одной оси массива невозрастающую последовательность.\n",
    "d = c.flatten()\n",
    "print(all(d[i] <= d[i+1] for i in range(len(d) - 1)))"
   ]
  },
  {
   "cell_type": "code",
   "execution_count": 127,
   "metadata": {},
   "outputs": [
    {
     "name": "stdout",
     "output_type": "stream",
     "text": [
      "1106991298803171600\n"
     ]
    }
   ],
   "source": [
    "# Подсчитать произведение ненулевых элементов на побочной диагонали.\n",
    "e = np.fliplr(c).diagonal()\n",
    "print(np.prod(e[e != 0]))"
   ]
  }
 ],
 "metadata": {
  "kernelspec": {
   "display_name": "Python 3.10.6 64-bit",
   "language": "python",
   "name": "python3"
  },
  "language_info": {
   "codemirror_mode": {
    "name": "ipython",
    "version": 3
   },
   "file_extension": ".py",
   "mimetype": "text/x-python",
   "name": "python",
   "nbconvert_exporter": "python",
   "pygments_lexer": "ipython3",
   "version": "3.10.6"
  },
  "orig_nbformat": 4,
  "vscode": {
   "interpreter": {
    "hash": "916dbcbb3f70747c44a77c7bcd40155683ae19c65e1c03b4aa3499c5328201f1"
   }
  }
 },
 "nbformat": 4,
 "nbformat_minor": 2
}
